{
 "cells": [
  {
   "cell_type": "code",
   "execution_count": null,
   "metadata": {},
   "outputs": [],
   "source": [
    "import duckdb\n",
    "import pandas as pd\n",
    "import matplotlib.pyplot as plt"
   ]
  },
  {
   "cell_type": "code",
   "execution_count": null,
   "metadata": {},
   "outputs": [],
   "source": [
    "con = duckdb.connect(\"github_stars.db\")"
   ]
  },
  {
   "cell_type": "code",
   "execution_count": null,
   "metadata": {},
   "outputs": [],
   "source": [
    "query = \"\"\" \n",
    "  select * \n",
    "  from github_stars.main.repo_stars_monthly as s \n",
    "  join github_stars.main.repo_commits_monthly as r \n",
    "  on s.repo_id = r.repo_id \n",
    "  and end_date is null \n",
    "\"\"\" \n",
    "df_monthly_stars = con.sql(query).df() \n",
    "df_monthly_stars.to_csv(\"monthly_stars.csv\") "
   ]
  },
  {
   "cell_type": "code",
   "execution_count": null,
   "metadata": {},
   "outputs": [],
   "source": [
    "df_monthly_stars = pd.read_csv(\"monthly_stars.csv\")\n",
    "df_monthly_stars['date'] = pd.to_datetime(df_monthly_stars['date'])\n",
    "cumulative_stars = df_monthly_stars.groupby(['repo_id', 'date'])['stars'].sum().groupby(level=0).cumsum()\n",
    "plt.figure(figsize=(12, 6))\n",
    "for repo_id, group in df_monthly_stars.groupby('repo_id'):\n",
    "    plt.plot(group['date'], cumulative_stars[group['repo_id'] == repo_id], label=repo_id)\n",
    "plt.title('Cumulative Stars per Month for Each Repo')\n",
    "plt.xlabel('Date')\n",
    "plt.ylabel('Cumulative Stars')\n",
    "plt.legend()\n",
    "plt.xticks(rotation=45)\n",
    "plt.tight_layout()\n",
    "plt.savefig(\"cumulative_stars.png\")\n",
    "plt.show()"
   ]
  }
 ],
 "metadata": {
  "language_info": {
   "name": "python"
  }
 },
 "nbformat": 4,
 "nbformat_minor": 2
}
